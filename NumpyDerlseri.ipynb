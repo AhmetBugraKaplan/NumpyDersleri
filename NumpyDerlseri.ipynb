{
  "nbformat": 4,
  "nbformat_minor": 0,
  "metadata": {
    "colab": {
      "provenance": [],
      "authorship_tag": "ABX9TyOytI+o8iFIqZsLtNFExa9J",
      "include_colab_link": true
    },
    "kernelspec": {
      "name": "python3",
      "display_name": "Python 3"
    },
    "language_info": {
      "name": "python"
    }
  },
  "cells": [
    {
      "cell_type": "markdown",
      "metadata": {
        "id": "view-in-github",
        "colab_type": "text"
      },
      "source": [
        "<a href=\"https://colab.research.google.com/github/AhmetBugraKaplan/NumpyDersleri/blob/main/NumpyDerlseri.ipynb\" target=\"_parent\"><img src=\"https://colab.research.google.com/assets/colab-badge.svg\" alt=\"Open In Colab\"/></a>"
      ]
    },
    {
      "cell_type": "code",
      "execution_count": 7,
      "metadata": {
        "id": "JmXL8nBxZ4lt"
      },
      "outputs": [],
      "source": [
        "import numpy as np"
      ]
    },
    {
      "cell_type": "code",
      "source": [
        "np.array([1,2,3,4,5])"
      ],
      "metadata": {
        "colab": {
          "base_uri": "https://localhost:8080/"
        },
        "id": "0Q-rIkWhZ8tn",
        "outputId": "483eb3c6-09de-4e3e-d43a-76f68630b3e6"
      },
      "execution_count": 8,
      "outputs": [
        {
          "output_type": "execute_result",
          "data": {
            "text/plain": [
              "array([1, 2, 3, 4, 5])"
            ]
          },
          "metadata": {},
          "execution_count": 8
        }
      ]
    },
    {
      "cell_type": "markdown",
      "source": [
        "# 2- Numpy ile Nokta Doğru ve Uzay\n"
      ],
      "metadata": {
        "id": "fO2d1VcUagYb"
      }
    },
    {
      "cell_type": "code",
      "source": [
        "skaler = np.array(90)\n",
        "print(skaler)"
      ],
      "metadata": {
        "id": "mby7SghEakjM",
        "colab": {
          "base_uri": "https://localhost:8080/"
        },
        "outputId": "25637739-b3f8-481e-b148-05f90d4ac28a"
      },
      "execution_count": 58,
      "outputs": [
        {
          "output_type": "stream",
          "name": "stdout",
          "text": [
            "90\n"
          ]
        }
      ]
    },
    {
      "cell_type": "code",
      "source": [
        "vektor = np.array([1,2,3,4,5,6])\n",
        "print(vektor)"
      ],
      "metadata": {
        "colab": {
          "base_uri": "https://localhost:8080/"
        },
        "id": "UNdr5UyQby0U",
        "outputId": "9acfb3e0-0746-406c-85a0-838e583b70ea"
      },
      "execution_count": 53,
      "outputs": [
        {
          "output_type": "stream",
          "name": "stdout",
          "text": [
            "[1 2 3 4 5 6]\n"
          ]
        }
      ]
    },
    {
      "cell_type": "code",
      "source": [
        "matris = np.array([[1,2,3],[4,5,6],[7,8,9]])\n",
        "print(matris)"
      ],
      "metadata": {
        "colab": {
          "base_uri": "https://localhost:8080/"
        },
        "id": "7Bbpvzvhb9RA",
        "outputId": "0144479a-904b-47dd-a509-e52a2e5657be"
      },
      "execution_count": 54,
      "outputs": [
        {
          "output_type": "stream",
          "name": "stdout",
          "text": [
            "[[1 2 3]\n",
            " [4 5 6]\n",
            " [7 8 9]]\n"
          ]
        }
      ]
    },
    {
      "cell_type": "code",
      "source": [
        "tensor = np.array([[[1,2,3],[4,5,6]]])\n",
        "print(tensor)"
      ],
      "metadata": {
        "id": "4edUxgMScM6m",
        "colab": {
          "base_uri": "https://localhost:8080/"
        },
        "outputId": "19c8bc61-ee36-49be-c475-4d08c1af49f5"
      },
      "execution_count": 60,
      "outputs": [
        {
          "output_type": "stream",
          "name": "stdout",
          "text": [
            "[[[1 2 3]\n",
            "  [4 5 6]]]\n"
          ]
        }
      ]
    },
    {
      "cell_type": "markdown",
      "source": [
        "# 3-Neden Numpy"
      ],
      "metadata": {
        "id": "RemCxm89chor"
      }
    },
    {
      "cell_type": "code",
      "source": [
        "import time"
      ],
      "metadata": {
        "id": "zdNvj9wgcf1L"
      },
      "execution_count": 13,
      "outputs": []
    },
    {
      "cell_type": "code",
      "source": [
        "z1 = time.time()\n",
        "\n",
        "liste = []\n",
        "for a in range (1000000):\n",
        "  kuvvet = a**100\n",
        "  liste.append(kuvvet)\n",
        "\n",
        "\n",
        "\n",
        "z2 = time.time()\n",
        "\n",
        "print(z2-z1)"
      ],
      "metadata": {
        "colab": {
          "base_uri": "https://localhost:8080/"
        },
        "id": "76B4lnftdoJT",
        "outputId": "cdf01d63-5df2-48ab-ee6f-fa451654ebe1"
      },
      "execution_count": 14,
      "outputs": [
        {
          "output_type": "stream",
          "name": "stdout",
          "text": [
            "1.1204612255096436\n"
          ]
        }
      ]
    },
    {
      "cell_type": "code",
      "source": [
        "z3 = time.time()\n",
        "\n",
        "liste2 = np.arange(1000000)**100\n",
        "\n",
        "\n",
        "z4 = time.time()\n",
        "\n",
        "print(z4-z3)"
      ],
      "metadata": {
        "colab": {
          "base_uri": "https://localhost:8080/"
        },
        "id": "c6sqqLg2dxpC",
        "outputId": "a73f3fa2-4e9c-43ee-f36e-123daa352f81"
      },
      "execution_count": 15,
      "outputs": [
        {
          "output_type": "stream",
          "name": "stdout",
          "text": [
            "0.006917476654052734\n"
          ]
        }
      ]
    },
    {
      "cell_type": "code",
      "source": [],
      "metadata": {
        "id": "Jc5UY-JQjWgo"
      },
      "execution_count": 15,
      "outputs": []
    },
    {
      "cell_type": "markdown",
      "source": [
        "#Ders 3 Index ve Slice"
      ],
      "metadata": {
        "id": "DweI8DlUjYto"
      }
    },
    {
      "cell_type": "code",
      "source": [
        "vektor = np.array([0,2,4,5,6,7,8,15])"
      ],
      "metadata": {
        "id": "zkO9rhBbjabk"
      },
      "execution_count": 16,
      "outputs": []
    },
    {
      "cell_type": "code",
      "source": [
        "print(vektor[3])"
      ],
      "metadata": {
        "colab": {
          "base_uri": "https://localhost:8080/"
        },
        "id": "nEWWjY_Ajfzg",
        "outputId": "1f561901-17cd-4bfb-d71b-3f26143d25e0"
      },
      "execution_count": 17,
      "outputs": [
        {
          "output_type": "stream",
          "name": "stdout",
          "text": [
            "5\n"
          ]
        }
      ]
    },
    {
      "cell_type": "code",
      "source": [
        "print(vektor[1:3])"
      ],
      "metadata": {
        "colab": {
          "base_uri": "https://localhost:8080/"
        },
        "id": "NftsjRUBkDiE",
        "outputId": "467dcb02-d8c0-47e8-e207-70828b53092e"
      },
      "execution_count": 18,
      "outputs": [
        {
          "output_type": "stream",
          "name": "stdout",
          "text": [
            "[2 4]\n"
          ]
        }
      ]
    },
    {
      "cell_type": "code",
      "source": [
        "print(vektor[:2])"
      ],
      "metadata": {
        "colab": {
          "base_uri": "https://localhost:8080/"
        },
        "id": "SrVof5tLkKc3",
        "outputId": "8c6011da-ae94-4672-b7a3-7db83e67f288"
      },
      "execution_count": 19,
      "outputs": [
        {
          "output_type": "stream",
          "name": "stdout",
          "text": [
            "[0 2]\n"
          ]
        }
      ]
    },
    {
      "cell_type": "code",
      "source": [
        "print(vektor[0:12:2])"
      ],
      "metadata": {
        "colab": {
          "base_uri": "https://localhost:8080/"
        },
        "id": "h4_yT1hckR-e",
        "outputId": "dc5ccf65-bd76-4b6e-d07e-856fad25dadc"
      },
      "execution_count": 20,
      "outputs": [
        {
          "output_type": "stream",
          "name": "stdout",
          "text": [
            "[0 4 6 8]\n"
          ]
        }
      ]
    },
    {
      "cell_type": "markdown",
      "source": [
        "#Ders 4 Size,Shape,Dtype,ndim\n"
      ],
      "metadata": {
        "id": "qeWFlK4HkriR"
      }
    },
    {
      "cell_type": "code",
      "source": [
        "  vektor = np.array([1,2,3,4,5,6])\n",
        "  print(vektor)\n",
        "\n",
        "\n",
        "  print(\"\")\n",
        "  matris= np.array([[1,2,3],[4,5,6],[7,8,9]])\n",
        "  print(matris)"
      ],
      "metadata": {
        "colab": {
          "base_uri": "https://localhost:8080/"
        },
        "id": "gioy8--Wkw71",
        "outputId": "edfb25c8-aac9-4ceb-865f-ff99fcef05ae"
      },
      "execution_count": 21,
      "outputs": [
        {
          "output_type": "stream",
          "name": "stdout",
          "text": [
            "[1 2 3 4 5 6]\n",
            "\n",
            "[[1 2 3]\n",
            " [4 5 6]\n",
            " [7 8 9]]\n"
          ]
        }
      ]
    },
    {
      "cell_type": "code",
      "source": [
        "print(vektor.size)\n",
        "print(matris.size)"
      ],
      "metadata": {
        "colab": {
          "base_uri": "https://localhost:8080/"
        },
        "id": "M2MPOpbrl-Mh",
        "outputId": "33279a5d-7f40-4e43-af20-9e270c5a3a0c"
      },
      "execution_count": 22,
      "outputs": [
        {
          "output_type": "stream",
          "name": "stdout",
          "text": [
            "6\n",
            "9\n"
          ]
        }
      ]
    },
    {
      "cell_type": "code",
      "source": [
        "vektor.shape"
      ],
      "metadata": {
        "colab": {
          "base_uri": "https://localhost:8080/"
        },
        "id": "WvWlE4Dbm04y",
        "outputId": "cbd84d67-88ba-47db-a8ea-af75bdebf1fc"
      },
      "execution_count": 23,
      "outputs": [
        {
          "output_type": "execute_result",
          "data": {
            "text/plain": [
              "(6,)"
            ]
          },
          "metadata": {},
          "execution_count": 23
        }
      ]
    },
    {
      "cell_type": "code",
      "source": [
        "matris.shape"
      ],
      "metadata": {
        "colab": {
          "base_uri": "https://localhost:8080/"
        },
        "id": "EvCHi092m5Ff",
        "outputId": "cbff3fee-86fc-411e-88e7-56e14c842633"
      },
      "execution_count": 24,
      "outputs": [
        {
          "output_type": "execute_result",
          "data": {
            "text/plain": [
              "(3, 3)"
            ]
          },
          "metadata": {},
          "execution_count": 24
        }
      ]
    },
    {
      "cell_type": "code",
      "source": [
        "vektor.ndim"
      ],
      "metadata": {
        "colab": {
          "base_uri": "https://localhost:8080/"
        },
        "id": "GqWy_DAem70L",
        "outputId": "41ea4714-9799-40c4-e5a9-5a09bcaa87e9"
      },
      "execution_count": 25,
      "outputs": [
        {
          "output_type": "execute_result",
          "data": {
            "text/plain": [
              "1"
            ]
          },
          "metadata": {},
          "execution_count": 25
        }
      ]
    },
    {
      "cell_type": "code",
      "source": [
        "matris.ndim"
      ],
      "metadata": {
        "colab": {
          "base_uri": "https://localhost:8080/"
        },
        "id": "GbienYRJnUWt",
        "outputId": "03c241ae-6500-4baf-f8ff-ec2c9c7735c8"
      },
      "execution_count": 26,
      "outputs": [
        {
          "output_type": "execute_result",
          "data": {
            "text/plain": [
              "2"
            ]
          },
          "metadata": {},
          "execution_count": 26
        }
      ]
    },
    {
      "cell_type": "code",
      "source": [],
      "metadata": {
        "id": "tTEHMIZqnV6i"
      },
      "execution_count": 26,
      "outputs": []
    },
    {
      "cell_type": "markdown",
      "source": [
        "# Ders6- Numpy Veri Tipi Değiştirme"
      ],
      "metadata": {
        "id": "wYQuV9uen0L5"
      }
    },
    {
      "cell_type": "code",
      "source": [
        "sayilar = np.array([1,2,3,4,5,6])"
      ],
      "metadata": {
        "id": "PdSggd55oEx5"
      },
      "execution_count": 27,
      "outputs": []
    },
    {
      "cell_type": "code",
      "source": [
        "sayilar.dtype"
      ],
      "metadata": {
        "colab": {
          "base_uri": "https://localhost:8080/"
        },
        "id": "99mfNU2YoL4y",
        "outputId": "a50f63c3-2149-433f-a066-384f33bf529f"
      },
      "execution_count": 28,
      "outputs": [
        {
          "output_type": "execute_result",
          "data": {
            "text/plain": [
              "dtype('int64')"
            ]
          },
          "metadata": {},
          "execution_count": 28
        }
      ]
    },
    {
      "cell_type": "code",
      "source": [
        "sayilar = sayilar.astype(\"int8\")\n",
        "sayilar.dtype"
      ],
      "metadata": {
        "colab": {
          "base_uri": "https://localhost:8080/"
        },
        "id": "VAnJVoBToNO1",
        "outputId": "77fbf794-1ebc-4693-af9a-5e87225cca5e"
      },
      "execution_count": 29,
      "outputs": [
        {
          "output_type": "execute_result",
          "data": {
            "text/plain": [
              "dtype('int8')"
            ]
          },
          "metadata": {},
          "execution_count": 29
        }
      ]
    },
    {
      "cell_type": "code",
      "source": [
        "sayilar = np.array([1,2,3,4,5,6],dtype=\"int8\")\n",
        "sayilar.dtype"
      ],
      "metadata": {
        "colab": {
          "base_uri": "https://localhost:8080/"
        },
        "id": "EDFfCIT5oePk",
        "outputId": "1b9aa4f0-74f3-433b-cae4-8460f17927c2"
      },
      "execution_count": 30,
      "outputs": [
        {
          "output_type": "execute_result",
          "data": {
            "text/plain": [
              "dtype('int8')"
            ]
          },
          "metadata": {},
          "execution_count": 30
        }
      ]
    },
    {
      "cell_type": "code",
      "source": [],
      "metadata": {
        "id": "OfTp8YRco2PY"
      },
      "execution_count": 30,
      "outputs": []
    },
    {
      "cell_type": "markdown",
      "source": [
        "# Ders7- Matrislerde Slice"
      ],
      "metadata": {
        "id": "jmdyI14TpYoT"
      }
    },
    {
      "cell_type": "markdown",
      "source": [],
      "metadata": {
        "id": "DUfnvFTwpYlQ"
      }
    },
    {
      "cell_type": "code",
      "source": [
        "matris = np.array([[1,2,3],[4,5,6],[7,8,9],[10,11,12]])"
      ],
      "metadata": {
        "id": "tR8Oc9u9peXt"
      },
      "execution_count": 31,
      "outputs": []
    },
    {
      "cell_type": "code",
      "source": [
        "matris"
      ],
      "metadata": {
        "colab": {
          "base_uri": "https://localhost:8080/"
        },
        "id": "DZ8cVM6OprFp",
        "outputId": "4e4006a1-94bd-4507-cb46-dfec09a28678"
      },
      "execution_count": 32,
      "outputs": [
        {
          "output_type": "execute_result",
          "data": {
            "text/plain": [
              "array([[ 1,  2,  3],\n",
              "       [ 4,  5,  6],\n",
              "       [ 7,  8,  9],\n",
              "       [10, 11, 12]])"
            ]
          },
          "metadata": {},
          "execution_count": 32
        }
      ]
    },
    {
      "cell_type": "code",
      "source": [
        "matris[0]"
      ],
      "metadata": {
        "colab": {
          "base_uri": "https://localhost:8080/"
        },
        "id": "N7dd1GX7pyPl",
        "outputId": "9a965333-3d24-401d-e681-063cae35fca0"
      },
      "execution_count": 33,
      "outputs": [
        {
          "output_type": "execute_result",
          "data": {
            "text/plain": [
              "array([1, 2, 3])"
            ]
          },
          "metadata": {},
          "execution_count": 33
        }
      ]
    },
    {
      "cell_type": "code",
      "source": [
        "matris[2]"
      ],
      "metadata": {
        "colab": {
          "base_uri": "https://localhost:8080/"
        },
        "id": "CQc8YbbRp0zt",
        "outputId": "772d4177-9a4b-48ca-9552-89699bb4a373"
      },
      "execution_count": 34,
      "outputs": [
        {
          "output_type": "execute_result",
          "data": {
            "text/plain": [
              "array([7, 8, 9])"
            ]
          },
          "metadata": {},
          "execution_count": 34
        }
      ]
    },
    {
      "cell_type": "code",
      "source": [
        "matris[1:2]"
      ],
      "metadata": {
        "colab": {
          "base_uri": "https://localhost:8080/"
        },
        "id": "NfYolScbp16i",
        "outputId": "41cfa59b-b19b-48c5-a9fd-e5a721858d49"
      },
      "execution_count": 35,
      "outputs": [
        {
          "output_type": "execute_result",
          "data": {
            "text/plain": [
              "array([[4, 5, 6]])"
            ]
          },
          "metadata": {},
          "execution_count": 35
        }
      ]
    },
    {
      "cell_type": "code",
      "source": [
        "matris[1:3]"
      ],
      "metadata": {
        "colab": {
          "base_uri": "https://localhost:8080/"
        },
        "id": "onJt0CUep6NT",
        "outputId": "5bfd6dcc-1f3b-4cbd-9697-e9af1f98ea5a"
      },
      "execution_count": 36,
      "outputs": [
        {
          "output_type": "execute_result",
          "data": {
            "text/plain": [
              "array([[4, 5, 6],\n",
              "       [7, 8, 9]])"
            ]
          },
          "metadata": {},
          "execution_count": 36
        }
      ]
    },
    {
      "cell_type": "code",
      "source": [
        "matris[0:]"
      ],
      "metadata": {
        "colab": {
          "base_uri": "https://localhost:8080/"
        },
        "id": "MWxK4GrSp8TT",
        "outputId": "14b6fbd9-7ad4-4ec8-9374-8d3b7c14b350"
      },
      "execution_count": 37,
      "outputs": [
        {
          "output_type": "execute_result",
          "data": {
            "text/plain": [
              "array([[ 1,  2,  3],\n",
              "       [ 4,  5,  6],\n",
              "       [ 7,  8,  9],\n",
              "       [10, 11, 12]])"
            ]
          },
          "metadata": {},
          "execution_count": 37
        }
      ]
    },
    {
      "cell_type": "code",
      "source": [
        "matris[:5]"
      ],
      "metadata": {
        "colab": {
          "base_uri": "https://localhost:8080/"
        },
        "id": "2YOtI1Lwp_qE",
        "outputId": "4e11d2d4-54e6-412e-d33b-3e47e55f9f27"
      },
      "execution_count": 38,
      "outputs": [
        {
          "output_type": "execute_result",
          "data": {
            "text/plain": [
              "array([[ 1,  2,  3],\n",
              "       [ 4,  5,  6],\n",
              "       [ 7,  8,  9],\n",
              "       [10, 11, 12]])"
            ]
          },
          "metadata": {},
          "execution_count": 38
        }
      ]
    },
    {
      "cell_type": "code",
      "source": [
        "matris[:4]"
      ],
      "metadata": {
        "colab": {
          "base_uri": "https://localhost:8080/"
        },
        "id": "vRcOJRsJqC8J",
        "outputId": "b2ddf533-bc8a-42f7-bfb3-fd249d86b798"
      },
      "execution_count": 39,
      "outputs": [
        {
          "output_type": "execute_result",
          "data": {
            "text/plain": [
              "array([[ 1,  2,  3],\n",
              "       [ 4,  5,  6],\n",
              "       [ 7,  8,  9],\n",
              "       [10, 11, 12]])"
            ]
          },
          "metadata": {},
          "execution_count": 39
        }
      ]
    },
    {
      "cell_type": "code",
      "source": [
        "matris[:3]"
      ],
      "metadata": {
        "colab": {
          "base_uri": "https://localhost:8080/"
        },
        "id": "Ysm6KyvXqE87",
        "outputId": "d8207cf2-994d-4f4e-9d82-a1bde92e7aba"
      },
      "execution_count": 40,
      "outputs": [
        {
          "output_type": "execute_result",
          "data": {
            "text/plain": [
              "array([[1, 2, 3],\n",
              "       [4, 5, 6],\n",
              "       [7, 8, 9]])"
            ]
          },
          "metadata": {},
          "execution_count": 40
        }
      ]
    },
    {
      "cell_type": "code",
      "source": [
        "matris[0:4,0:1]"
      ],
      "metadata": {
        "colab": {
          "base_uri": "https://localhost:8080/"
        },
        "id": "ygrx0JXJqHjA",
        "outputId": "63ab27c4-1a8d-4a75-8d99-f28e32a9140b"
      },
      "execution_count": 41,
      "outputs": [
        {
          "output_type": "execute_result",
          "data": {
            "text/plain": [
              "array([[ 1],\n",
              "       [ 4],\n",
              "       [ 7],\n",
              "       [10]])"
            ]
          },
          "metadata": {},
          "execution_count": 41
        }
      ]
    },
    {
      "cell_type": "code",
      "source": [],
      "metadata": {
        "id": "bvJqnF2RqYTu"
      },
      "execution_count": 41,
      "outputs": []
    },
    {
      "cell_type": "markdown",
      "source": [
        "#Ders 8 - Random Matris Oluşturma"
      ],
      "metadata": {
        "id": "IovLv9ykrFz1"
      }
    },
    {
      "cell_type": "code",
      "source": [
        "np.random.randint(0,99,(4,4))\n"
      ],
      "metadata": {
        "colab": {
          "base_uri": "https://localhost:8080/"
        },
        "id": "MGeYzDpXrIGB",
        "outputId": "e013d2cf-2b88-46ab-a878-f8592127b355"
      },
      "execution_count": 42,
      "outputs": [
        {
          "output_type": "execute_result",
          "data": {
            "text/plain": [
              "array([[32, 98, 25, 48],\n",
              "       [32, 35, 49, 76],\n",
              "       [ 1, 68, 88,  6],\n",
              "       [83,  6, 76, 57]])"
            ]
          },
          "metadata": {},
          "execution_count": 42
        }
      ]
    },
    {
      "cell_type": "markdown",
      "source": [
        "#Ders 9 - Arange ile Vektör Oluşturma\n"
      ],
      "metadata": {
        "id": "JWOqIGKusdPj"
      }
    },
    {
      "cell_type": "code",
      "source": [
        "liste = [1,2,3,4,5,6]\n",
        "range(1_000_000)"
      ],
      "metadata": {
        "colab": {
          "base_uri": "https://localhost:8080/"
        },
        "id": "X4tL56n7rTez",
        "outputId": "ce61070b-a7bb-4283-db0b-35ecb52234e0"
      },
      "execution_count": 61,
      "outputs": [
        {
          "output_type": "execute_result",
          "data": {
            "text/plain": [
              "range(0, 1000000)"
            ]
          },
          "metadata": {},
          "execution_count": 61
        }
      ]
    },
    {
      "cell_type": "code",
      "source": [
        "milyon = np.arange(1000000)"
      ],
      "metadata": {
        "id": "GbairVKPsTX_"
      },
      "execution_count": 44,
      "outputs": []
    },
    {
      "cell_type": "code",
      "source": [
        "milyon"
      ],
      "metadata": {
        "colab": {
          "base_uri": "https://localhost:8080/"
        },
        "id": "vJJY29fAssfC",
        "outputId": "b32c8f48-83b9-45fc-e2be-29906320f123"
      },
      "execution_count": 45,
      "outputs": [
        {
          "output_type": "execute_result",
          "data": {
            "text/plain": [
              "array([     0,      1,      2, ..., 999997, 999998, 999999])"
            ]
          },
          "metadata": {},
          "execution_count": 45
        }
      ]
    },
    {
      "cell_type": "code",
      "source": [
        "np.arange(10)"
      ],
      "metadata": {
        "colab": {
          "base_uri": "https://localhost:8080/"
        },
        "id": "kCznFzmFss7Z",
        "outputId": "b3e5f3a8-8103-4948-dfdf-ff00e42ce0da"
      },
      "execution_count": 46,
      "outputs": [
        {
          "output_type": "execute_result",
          "data": {
            "text/plain": [
              "array([0, 1, 2, 3, 4, 5, 6, 7, 8, 9])"
            ]
          },
          "metadata": {},
          "execution_count": 46
        }
      ]
    },
    {
      "cell_type": "code",
      "source": [
        "np.arange(5,10)"
      ],
      "metadata": {
        "colab": {
          "base_uri": "https://localhost:8080/"
        },
        "id": "2Zlb-zz_szAm",
        "outputId": "ec8d30f6-6261-4f31-e93d-100ea9a47890"
      },
      "execution_count": 47,
      "outputs": [
        {
          "output_type": "execute_result",
          "data": {
            "text/plain": [
              "array([5, 6, 7, 8, 9])"
            ]
          },
          "metadata": {},
          "execution_count": 47
        }
      ]
    },
    {
      "cell_type": "code",
      "source": [
        "np.arange(1,20,3)"
      ],
      "metadata": {
        "colab": {
          "base_uri": "https://localhost:8080/"
        },
        "id": "9n8I3TW_s2bw",
        "outputId": "91398405-eb50-43b3-9832-b8b5151a0a87"
      },
      "execution_count": 48,
      "outputs": [
        {
          "output_type": "execute_result",
          "data": {
            "text/plain": [
              "array([ 1,  4,  7, 10, 13, 16, 19])"
            ]
          },
          "metadata": {},
          "execution_count": 48
        }
      ]
    },
    {
      "cell_type": "markdown",
      "source": [
        "#Ders 10-linspace() ile vektör oluşturma"
      ],
      "metadata": {
        "id": "O1e-FM4DtBzE"
      }
    },
    {
      "cell_type": "code",
      "source": [
        "np.arange(10)"
      ],
      "metadata": {
        "colab": {
          "base_uri": "https://localhost:8080/"
        },
        "id": "2FR2FSovs8Ay",
        "outputId": "d35d17eb-55ed-4cb6-d5db-7c16ce326cd3"
      },
      "execution_count": 49,
      "outputs": [
        {
          "output_type": "execute_result",
          "data": {
            "text/plain": [
              "array([0, 1, 2, 3, 4, 5, 6, 7, 8, 9])"
            ]
          },
          "metadata": {},
          "execution_count": 49
        }
      ]
    },
    {
      "cell_type": "code",
      "source": [
        "np.arange(5,10)"
      ],
      "metadata": {
        "colab": {
          "base_uri": "https://localhost:8080/"
        },
        "id": "n5DawunXtIBF",
        "outputId": "da54cd07-875a-4cba-bc56-b26b4a1df05b"
      },
      "execution_count": 50,
      "outputs": [
        {
          "output_type": "execute_result",
          "data": {
            "text/plain": [
              "array([5, 6, 7, 8, 9])"
            ]
          },
          "metadata": {},
          "execution_count": 50
        }
      ]
    },
    {
      "cell_type": "code",
      "source": [
        "np.linspace(0,20,10)"
      ],
      "metadata": {
        "id": "7UiLRvhNtJ5f",
        "outputId": "bfa526f6-7c45-4ac5-a541-f3df68072790",
        "colab": {
          "base_uri": "https://localhost:8080/"
        }
      },
      "execution_count": 51,
      "outputs": [
        {
          "output_type": "execute_result",
          "data": {
            "text/plain": [
              "array([ 0.        ,  2.22222222,  4.44444444,  6.66666667,  8.88888889,\n",
              "       11.11111111, 13.33333333, 15.55555556, 17.77777778, 20.        ])"
            ]
          },
          "metadata": {},
          "execution_count": 51
        }
      ]
    },
    {
      "cell_type": "code",
      "source": [],
      "metadata": {
        "id": "Vk0ML4-6tPiC"
      },
      "execution_count": 62,
      "outputs": []
    },
    {
      "cell_type": "markdown",
      "source": [
        "#Ders 11 Numpy ile Yeniden Boyutlandırma reshape() ile\n",
        "\n"
      ],
      "metadata": {
        "id": "NsizY8M75n-f"
      }
    },
    {
      "cell_type": "code",
      "source": [
        "ml = np.array([[1,2,3,4],[5,6,7,8],[9,10,11,12]])\n",
        "print(ml)"
      ],
      "metadata": {
        "colab": {
          "base_uri": "https://localhost:8080/"
        },
        "id": "F4iOufVv5o85",
        "outputId": "d9b19dd1-c792-4fd6-9c37-084cd27bd199"
      },
      "execution_count": 67,
      "outputs": [
        {
          "output_type": "stream",
          "name": "stdout",
          "text": [
            "[[ 1  2  3  4]\n",
            " [ 5  6  7  8]\n",
            " [ 9 10 11 12]]\n"
          ]
        }
      ]
    },
    {
      "cell_type": "code",
      "source": [
        "ml.shape"
      ],
      "metadata": {
        "colab": {
          "base_uri": "https://localhost:8080/"
        },
        "id": "iabnFVDx58fu",
        "outputId": "1c4a65ea-bd53-4d88-f3ed-3f057a20f780"
      },
      "execution_count": 71,
      "outputs": [
        {
          "output_type": "execute_result",
          "data": {
            "text/plain": [
              "(3, 4)"
            ]
          },
          "metadata": {},
          "execution_count": 71
        }
      ]
    },
    {
      "cell_type": "code",
      "source": [
        "ml.size"
      ],
      "metadata": {
        "colab": {
          "base_uri": "https://localhost:8080/"
        },
        "id": "VeSlZ3PY6CEH",
        "outputId": "54b79676-9e1b-45fe-fc7c-d3ea0bdc8014"
      },
      "execution_count": 72,
      "outputs": [
        {
          "output_type": "execute_result",
          "data": {
            "text/plain": [
              "12"
            ]
          },
          "metadata": {},
          "execution_count": 72
        }
      ]
    },
    {
      "cell_type": "markdown",
      "source": [
        "\n"
      ],
      "metadata": {
        "id": "RI9WMkTu5h_3"
      }
    },
    {
      "cell_type": "code",
      "source": [
        "ml.reshape(6,2)"
      ],
      "metadata": {
        "colab": {
          "base_uri": "https://localhost:8080/"
        },
        "id": "mTzWvX9S6JKu",
        "outputId": "1be0d647-dadb-49eb-ac0c-83c7d58e4464"
      },
      "execution_count": 78,
      "outputs": [
        {
          "output_type": "execute_result",
          "data": {
            "text/plain": [
              "array([[ 1,  2],\n",
              "       [ 3,  4],\n",
              "       [ 5,  6],\n",
              "       [ 7,  8],\n",
              "       [ 9, 10],\n",
              "       [11, 12]])"
            ]
          },
          "metadata": {},
          "execution_count": 78
        }
      ]
    },
    {
      "cell_type": "code",
      "source": [
        "np.random.randint(0,2,(8,6)).reshape(4,12)"
      ],
      "metadata": {
        "colab": {
          "base_uri": "https://localhost:8080/"
        },
        "id": "95EVNU1g6KPm",
        "outputId": "4f4a0650-2ed1-4552-ed3e-838b2f8ad603"
      },
      "execution_count": 83,
      "outputs": [
        {
          "output_type": "execute_result",
          "data": {
            "text/plain": [
              "array([[1, 0, 1, 1, 0, 0, 0, 1, 1, 1, 0, 0],\n",
              "       [0, 1, 0, 1, 0, 0, 0, 1, 0, 1, 1, 0],\n",
              "       [0, 1, 0, 0, 0, 1, 1, 1, 0, 1, 1, 0],\n",
              "       [1, 1, 1, 0, 1, 1, 0, 1, 1, 0, 1, 0]])"
            ]
          },
          "metadata": {},
          "execution_count": 83
        }
      ]
    },
    {
      "cell_type": "code",
      "source": [],
      "metadata": {
        "id": "djKegQO-6aLB"
      },
      "execution_count": null,
      "outputs": []
    },
    {
      "cell_type": "markdown",
      "source": [
        "#Ders 12 copy ve View() Metotları"
      ],
      "metadata": {
        "id": "FD-G_RLl69WE"
      }
    },
    {
      "cell_type": "code",
      "source": [
        "matris = np.random.randint(0,5,(4,4))"
      ],
      "metadata": {
        "id": "Y928iaMl6_vA"
      },
      "execution_count": 86,
      "outputs": []
    },
    {
      "cell_type": "code",
      "source": [
        "matris"
      ],
      "metadata": {
        "colab": {
          "base_uri": "https://localhost:8080/"
        },
        "id": "9GfjNpHb7PUo",
        "outputId": "4127868f-0f87-40e0-e1cb-653c0713c976"
      },
      "execution_count": 87,
      "outputs": [
        {
          "output_type": "execute_result",
          "data": {
            "text/plain": [
              "array([[2, 2, 3, 0],\n",
              "       [3, 2, 0, 3],\n",
              "       [0, 4, 4, 4],\n",
              "       [2, 2, 4, 2]])"
            ]
          },
          "metadata": {},
          "execution_count": 87
        }
      ]
    },
    {
      "cell_type": "code",
      "source": [
        "matris2 = matris.view()\n",
        "matris2"
      ],
      "metadata": {
        "colab": {
          "base_uri": "https://localhost:8080/"
        },
        "id": "j5Wywvhv7P4Y",
        "outputId": "25d3b139-3189-4595-b416-1a7fef53464b"
      },
      "execution_count": 91,
      "outputs": [
        {
          "output_type": "execute_result",
          "data": {
            "text/plain": [
              "array([[2, 2, 3, 0],\n",
              "       [3, 2, 0, 3],\n",
              "       [0, 4, 4, 4],\n",
              "       [2, 2, 4, 2]])"
            ]
          },
          "metadata": {},
          "execution_count": 91
        }
      ]
    },
    {
      "cell_type": "code",
      "source": [
        "matris2[0]=[9,9,9,9]\n",
        "matris2"
      ],
      "metadata": {
        "colab": {
          "base_uri": "https://localhost:8080/"
        },
        "id": "jFI5NAfL7iLb",
        "outputId": "30c75363-081d-46ce-dfdb-240e236b596f"
      },
      "execution_count": 93,
      "outputs": [
        {
          "output_type": "execute_result",
          "data": {
            "text/plain": [
              "array([[9, 9, 9, 9],\n",
              "       [3, 2, 0, 3],\n",
              "       [0, 4, 4, 4],\n",
              "       [2, 2, 4, 2]])"
            ]
          },
          "metadata": {},
          "execution_count": 93
        }
      ]
    },
    {
      "cell_type": "code",
      "source": [
        "matris"
      ],
      "metadata": {
        "colab": {
          "base_uri": "https://localhost:8080/"
        },
        "id": "PfFamiG08Uk4",
        "outputId": "ecf47b13-e70d-44cc-c2a7-3f7f5c26a7b7"
      },
      "execution_count": 94,
      "outputs": [
        {
          "output_type": "execute_result",
          "data": {
            "text/plain": [
              "array([[9, 9, 9, 9],\n",
              "       [3, 2, 0, 3],\n",
              "       [0, 4, 4, 4],\n",
              "       [2, 2, 4, 2]])"
            ]
          },
          "metadata": {},
          "execution_count": 94
        }
      ]
    },
    {
      "cell_type": "code",
      "source": [
        "matris3 = np.random.randint(0,5,(4,4))\n",
        "matris3"
      ],
      "metadata": {
        "colab": {
          "base_uri": "https://localhost:8080/"
        },
        "id": "f-6NJFLL8ZES",
        "outputId": "81f24dff-d42e-41fe-ac4d-5f81866f0f74"
      },
      "execution_count": 97,
      "outputs": [
        {
          "output_type": "execute_result",
          "data": {
            "text/plain": [
              "array([[0, 3, 3, 0],\n",
              "       [2, 2, 3, 0],\n",
              "       [0, 4, 3, 0],\n",
              "       [0, 2, 0, 0]])"
            ]
          },
          "metadata": {},
          "execution_count": 97
        }
      ]
    },
    {
      "cell_type": "code",
      "source": [
        "matris4=matris3.copy()\n",
        "matris4"
      ],
      "metadata": {
        "colab": {
          "base_uri": "https://localhost:8080/"
        },
        "id": "bGFtaqL98e0e",
        "outputId": "1b72d2de-a36b-4f7c-a406-e8fb938ba159"
      },
      "execution_count": 99,
      "outputs": [
        {
          "output_type": "execute_result",
          "data": {
            "text/plain": [
              "array([[0, 3, 3, 0],\n",
              "       [2, 2, 3, 0],\n",
              "       [0, 4, 3, 0],\n",
              "       [0, 2, 0, 0]])"
            ]
          },
          "metadata": {},
          "execution_count": 99
        }
      ]
    },
    {
      "cell_type": "code",
      "source": [
        "matris4[0]"
      ],
      "metadata": {
        "colab": {
          "base_uri": "https://localhost:8080/"
        },
        "id": "0nU4_7J68lFj",
        "outputId": "c6272dbd-955a-46c6-8223-cf147d7a2493"
      },
      "execution_count": 100,
      "outputs": [
        {
          "output_type": "execute_result",
          "data": {
            "text/plain": [
              "array([0, 3, 3, 0])"
            ]
          },
          "metadata": {},
          "execution_count": 100
        }
      ]
    },
    {
      "cell_type": "code",
      "source": [
        "matris4[0] = [3,1,3,1]\n",
        "matris4"
      ],
      "metadata": {
        "colab": {
          "base_uri": "https://localhost:8080/"
        },
        "id": "j5WSRdDT8pWQ",
        "outputId": "e201d14b-1d34-4e5b-b214-e326ae7de543"
      },
      "execution_count": 101,
      "outputs": [
        {
          "output_type": "execute_result",
          "data": {
            "text/plain": [
              "array([[3, 1, 3, 1],\n",
              "       [2, 2, 3, 0],\n",
              "       [0, 4, 3, 0],\n",
              "       [0, 2, 0, 0]])"
            ]
          },
          "metadata": {},
          "execution_count": 101
        }
      ]
    },
    {
      "cell_type": "code",
      "source": [
        "matris3"
      ],
      "metadata": {
        "colab": {
          "base_uri": "https://localhost:8080/"
        },
        "id": "LLxxMA8P9HMn",
        "outputId": "f0015c39-a506-4ace-8c00-4a4998d62c54"
      },
      "execution_count": 102,
      "outputs": [
        {
          "output_type": "execute_result",
          "data": {
            "text/plain": [
              "array([[0, 3, 3, 0],\n",
              "       [2, 2, 3, 0],\n",
              "       [0, 4, 3, 0],\n",
              "       [0, 2, 0, 0]])"
            ]
          },
          "metadata": {},
          "execution_count": 102
        }
      ]
    },
    {
      "cell_type": "markdown",
      "source": [
        "**Yani view ile kopyalarsak ilgili değişkenlerde değişir.**\n",
        "\n",
        "\n",
        "\n",
        "**Fakat copy ile kopyalarsak diğerlerini alakadar etmez**"
      ],
      "metadata": {
        "id": "Dm4-mIjx9Iz3"
      }
    },
    {
      "cell_type": "code",
      "source": [],
      "metadata": {
        "id": "s6istnz-9HuD"
      },
      "execution_count": 102,
      "outputs": []
    },
    {
      "cell_type": "markdown",
      "source": [
        "#Ders13 - ones zeros full ile  matris oluşturma"
      ],
      "metadata": {
        "id": "otH1VsNw9o-y"
      }
    },
    {
      "cell_type": "code",
      "source": [
        "np.zeros(5)"
      ],
      "metadata": {
        "colab": {
          "base_uri": "https://localhost:8080/"
        },
        "id": "niYxysfw9s6z",
        "outputId": "3124ed49-5fb4-49e7-d1d8-22d65c4301bd"
      },
      "execution_count": 103,
      "outputs": [
        {
          "output_type": "execute_result",
          "data": {
            "text/plain": [
              "array([0., 0., 0., 0., 0.])"
            ]
          },
          "metadata": {},
          "execution_count": 103
        }
      ]
    },
    {
      "cell_type": "code",
      "source": [
        "np.zeros((4,4))"
      ],
      "metadata": {
        "colab": {
          "base_uri": "https://localhost:8080/"
        },
        "id": "aNoOxSpO9sQl",
        "outputId": "02046fd1-aaf1-4df7-98ec-bc514aa85ed9"
      },
      "execution_count": 104,
      "outputs": [
        {
          "output_type": "execute_result",
          "data": {
            "text/plain": [
              "array([[0., 0., 0., 0.],\n",
              "       [0., 0., 0., 0.],\n",
              "       [0., 0., 0., 0.],\n",
              "       [0., 0., 0., 0.]])"
            ]
          },
          "metadata": {},
          "execution_count": 104
        }
      ]
    },
    {
      "cell_type": "code",
      "source": [
        "np.ones(7)"
      ],
      "metadata": {
        "colab": {
          "base_uri": "https://localhost:8080/"
        },
        "id": "-sRk1B-W9ykl",
        "outputId": "68415184-03a5-4c0d-a53a-185f6f2c31cf"
      },
      "execution_count": 105,
      "outputs": [
        {
          "output_type": "execute_result",
          "data": {
            "text/plain": [
              "array([1., 1., 1., 1., 1., 1., 1.])"
            ]
          },
          "metadata": {},
          "execution_count": 105
        }
      ]
    },
    {
      "cell_type": "code",
      "source": [
        "np.ones(shape=(7,2))"
      ],
      "metadata": {
        "colab": {
          "base_uri": "https://localhost:8080/"
        },
        "id": "z2oB7JLO94RD",
        "outputId": "31097900-b063-4b58-b977-b6a27252cf6e"
      },
      "execution_count": 106,
      "outputs": [
        {
          "output_type": "execute_result",
          "data": {
            "text/plain": [
              "array([[1., 1.],\n",
              "       [1., 1.],\n",
              "       [1., 1.],\n",
              "       [1., 1.],\n",
              "       [1., 1.],\n",
              "       [1., 1.],\n",
              "       [1., 1.]])"
            ]
          },
          "metadata": {},
          "execution_count": 106
        }
      ]
    },
    {
      "cell_type": "code",
      "source": [
        "np.full((4,4),19)"
      ],
      "metadata": {
        "colab": {
          "base_uri": "https://localhost:8080/"
        },
        "id": "njt-5_z898FJ",
        "outputId": "d572c1a3-9947-439a-fe2f-dea5766041fc"
      },
      "execution_count": 109,
      "outputs": [
        {
          "output_type": "execute_result",
          "data": {
            "text/plain": [
              "array([[19, 19, 19, 19],\n",
              "       [19, 19, 19, 19],\n",
              "       [19, 19, 19, 19],\n",
              "       [19, 19, 19, 19]])"
            ]
          },
          "metadata": {},
          "execution_count": 109
        }
      ]
    },
    {
      "cell_type": "code",
      "source": [],
      "metadata": {
        "id": "2KY9TmcX-L9c"
      },
      "execution_count": null,
      "outputs": []
    }
  ]
}